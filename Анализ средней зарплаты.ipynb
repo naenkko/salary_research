{
  "cells": [
    {
      "cell_type": "markdown",
      "metadata": {
        "id": "NvuyAAm6eIrZ"
      },
      "source": [
        "# Анализ зарплат в сфере данных"
      ]
    },
    {
      "cell_type": "markdown",
      "metadata": {
        "id": "44sYrw4peIrc"
      },
      "source": [
        "## 1. Используемые статистические данные\n",
        "\n",
        "Для проведения статистического анализа используется набор данных о зарплатах в сфере данных (jobs_in_data.csv). Этот датасет содержит информацию о зарплатах специалистов различных категорий в области данных, включая уровень опыта, регион работы, размер компании и другие параметры.\n",
        "\n",
        "В рамках данного исследования основным анализируемым показателем является параметр \"salary_in_usd\", отражающий годовую зарплату специалистов в долларах США."
      ]
    },
    {
      "cell_type": "code",
      "execution_count": 2,
      "metadata": {
        "colab": {
          "base_uri": "https://localhost:8080/",
          "height": 356
        },
        "id": "6zVSXOqReIre",
        "outputId": "76d3ef4a-cb15-4150-db64-77ec8b321c74"
      },
      "outputs": [
        {
          "output_type": "error",
          "ename": "FileNotFoundError",
          "evalue": "[Errno 2] No such file or directory: 'jobs_in_data.csv'",
          "traceback": [
            "\u001b[0;31m---------------------------------------------------------------------------\u001b[0m",
            "\u001b[0;31mFileNotFoundError\u001b[0m                         Traceback (most recent call last)",
            "\u001b[0;32m<ipython-input-2-aa543a3520c1>\u001b[0m in \u001b[0;36m<cell line: 0>\u001b[0;34m()\u001b[0m\n\u001b[1;32m     12\u001b[0m \u001b[0;34m\u001b[0m\u001b[0m\n\u001b[1;32m     13\u001b[0m \u001b[0;31m# Импорт данных\u001b[0m\u001b[0;34m\u001b[0m\u001b[0;34m\u001b[0m\u001b[0m\n\u001b[0;32m---> 14\u001b[0;31m \u001b[0mdf\u001b[0m \u001b[0;34m=\u001b[0m \u001b[0mpd\u001b[0m\u001b[0;34m.\u001b[0m\u001b[0mread_csv\u001b[0m\u001b[0;34m(\u001b[0m\u001b[0;34m'jobs_in_data.csv'\u001b[0m\u001b[0;34m)\u001b[0m\u001b[0;34m\u001b[0m\u001b[0;34m\u001b[0m\u001b[0m\n\u001b[0m\u001b[1;32m     15\u001b[0m \u001b[0;34m\u001b[0m\u001b[0m\n\u001b[1;32m     16\u001b[0m \u001b[0;31m# Базовая информация о наборе данных\u001b[0m\u001b[0;34m\u001b[0m\u001b[0;34m\u001b[0m\u001b[0m\n",
            "\u001b[0;32m/usr/local/lib/python3.11/dist-packages/pandas/io/parsers/readers.py\u001b[0m in \u001b[0;36mread_csv\u001b[0;34m(filepath_or_buffer, sep, delimiter, header, names, index_col, usecols, dtype, engine, converters, true_values, false_values, skipinitialspace, skiprows, skipfooter, nrows, na_values, keep_default_na, na_filter, verbose, skip_blank_lines, parse_dates, infer_datetime_format, keep_date_col, date_parser, date_format, dayfirst, cache_dates, iterator, chunksize, compression, thousands, decimal, lineterminator, quotechar, quoting, doublequote, escapechar, comment, encoding, encoding_errors, dialect, on_bad_lines, delim_whitespace, low_memory, memory_map, float_precision, storage_options, dtype_backend)\u001b[0m\n\u001b[1;32m   1024\u001b[0m     \u001b[0mkwds\u001b[0m\u001b[0;34m.\u001b[0m\u001b[0mupdate\u001b[0m\u001b[0;34m(\u001b[0m\u001b[0mkwds_defaults\u001b[0m\u001b[0;34m)\u001b[0m\u001b[0;34m\u001b[0m\u001b[0;34m\u001b[0m\u001b[0m\n\u001b[1;32m   1025\u001b[0m \u001b[0;34m\u001b[0m\u001b[0m\n\u001b[0;32m-> 1026\u001b[0;31m     \u001b[0;32mreturn\u001b[0m \u001b[0m_read\u001b[0m\u001b[0;34m(\u001b[0m\u001b[0mfilepath_or_buffer\u001b[0m\u001b[0;34m,\u001b[0m \u001b[0mkwds\u001b[0m\u001b[0;34m)\u001b[0m\u001b[0;34m\u001b[0m\u001b[0;34m\u001b[0m\u001b[0m\n\u001b[0m\u001b[1;32m   1027\u001b[0m \u001b[0;34m\u001b[0m\u001b[0m\n\u001b[1;32m   1028\u001b[0m \u001b[0;34m\u001b[0m\u001b[0m\n",
            "\u001b[0;32m/usr/local/lib/python3.11/dist-packages/pandas/io/parsers/readers.py\u001b[0m in \u001b[0;36m_read\u001b[0;34m(filepath_or_buffer, kwds)\u001b[0m\n\u001b[1;32m    618\u001b[0m \u001b[0;34m\u001b[0m\u001b[0m\n\u001b[1;32m    619\u001b[0m     \u001b[0;31m# Create the parser.\u001b[0m\u001b[0;34m\u001b[0m\u001b[0;34m\u001b[0m\u001b[0m\n\u001b[0;32m--> 620\u001b[0;31m     \u001b[0mparser\u001b[0m \u001b[0;34m=\u001b[0m \u001b[0mTextFileReader\u001b[0m\u001b[0;34m(\u001b[0m\u001b[0mfilepath_or_buffer\u001b[0m\u001b[0;34m,\u001b[0m \u001b[0;34m**\u001b[0m\u001b[0mkwds\u001b[0m\u001b[0;34m)\u001b[0m\u001b[0;34m\u001b[0m\u001b[0;34m\u001b[0m\u001b[0m\n\u001b[0m\u001b[1;32m    621\u001b[0m \u001b[0;34m\u001b[0m\u001b[0m\n\u001b[1;32m    622\u001b[0m     \u001b[0;32mif\u001b[0m \u001b[0mchunksize\u001b[0m \u001b[0;32mor\u001b[0m \u001b[0miterator\u001b[0m\u001b[0;34m:\u001b[0m\u001b[0;34m\u001b[0m\u001b[0;34m\u001b[0m\u001b[0m\n",
            "\u001b[0;32m/usr/local/lib/python3.11/dist-packages/pandas/io/parsers/readers.py\u001b[0m in \u001b[0;36m__init__\u001b[0;34m(self, f, engine, **kwds)\u001b[0m\n\u001b[1;32m   1618\u001b[0m \u001b[0;34m\u001b[0m\u001b[0m\n\u001b[1;32m   1619\u001b[0m         \u001b[0mself\u001b[0m\u001b[0;34m.\u001b[0m\u001b[0mhandles\u001b[0m\u001b[0;34m:\u001b[0m \u001b[0mIOHandles\u001b[0m \u001b[0;34m|\u001b[0m \u001b[0;32mNone\u001b[0m \u001b[0;34m=\u001b[0m \u001b[0;32mNone\u001b[0m\u001b[0;34m\u001b[0m\u001b[0;34m\u001b[0m\u001b[0m\n\u001b[0;32m-> 1620\u001b[0;31m         \u001b[0mself\u001b[0m\u001b[0;34m.\u001b[0m\u001b[0m_engine\u001b[0m \u001b[0;34m=\u001b[0m \u001b[0mself\u001b[0m\u001b[0;34m.\u001b[0m\u001b[0m_make_engine\u001b[0m\u001b[0;34m(\u001b[0m\u001b[0mf\u001b[0m\u001b[0;34m,\u001b[0m \u001b[0mself\u001b[0m\u001b[0;34m.\u001b[0m\u001b[0mengine\u001b[0m\u001b[0;34m)\u001b[0m\u001b[0;34m\u001b[0m\u001b[0;34m\u001b[0m\u001b[0m\n\u001b[0m\u001b[1;32m   1621\u001b[0m \u001b[0;34m\u001b[0m\u001b[0m\n\u001b[1;32m   1622\u001b[0m     \u001b[0;32mdef\u001b[0m \u001b[0mclose\u001b[0m\u001b[0;34m(\u001b[0m\u001b[0mself\u001b[0m\u001b[0;34m)\u001b[0m \u001b[0;34m->\u001b[0m \u001b[0;32mNone\u001b[0m\u001b[0;34m:\u001b[0m\u001b[0;34m\u001b[0m\u001b[0;34m\u001b[0m\u001b[0m\n",
            "\u001b[0;32m/usr/local/lib/python3.11/dist-packages/pandas/io/parsers/readers.py\u001b[0m in \u001b[0;36m_make_engine\u001b[0;34m(self, f, engine)\u001b[0m\n\u001b[1;32m   1878\u001b[0m                 \u001b[0;32mif\u001b[0m \u001b[0;34m\"b\"\u001b[0m \u001b[0;32mnot\u001b[0m \u001b[0;32min\u001b[0m \u001b[0mmode\u001b[0m\u001b[0;34m:\u001b[0m\u001b[0;34m\u001b[0m\u001b[0;34m\u001b[0m\u001b[0m\n\u001b[1;32m   1879\u001b[0m                     \u001b[0mmode\u001b[0m \u001b[0;34m+=\u001b[0m \u001b[0;34m\"b\"\u001b[0m\u001b[0;34m\u001b[0m\u001b[0;34m\u001b[0m\u001b[0m\n\u001b[0;32m-> 1880\u001b[0;31m             self.handles = get_handle(\n\u001b[0m\u001b[1;32m   1881\u001b[0m                 \u001b[0mf\u001b[0m\u001b[0;34m,\u001b[0m\u001b[0;34m\u001b[0m\u001b[0;34m\u001b[0m\u001b[0m\n\u001b[1;32m   1882\u001b[0m                 \u001b[0mmode\u001b[0m\u001b[0;34m,\u001b[0m\u001b[0;34m\u001b[0m\u001b[0;34m\u001b[0m\u001b[0m\n",
            "\u001b[0;32m/usr/local/lib/python3.11/dist-packages/pandas/io/common.py\u001b[0m in \u001b[0;36mget_handle\u001b[0;34m(path_or_buf, mode, encoding, compression, memory_map, is_text, errors, storage_options)\u001b[0m\n\u001b[1;32m    871\u001b[0m         \u001b[0;32mif\u001b[0m \u001b[0mioargs\u001b[0m\u001b[0;34m.\u001b[0m\u001b[0mencoding\u001b[0m \u001b[0;32mand\u001b[0m \u001b[0;34m\"b\"\u001b[0m \u001b[0;32mnot\u001b[0m \u001b[0;32min\u001b[0m \u001b[0mioargs\u001b[0m\u001b[0;34m.\u001b[0m\u001b[0mmode\u001b[0m\u001b[0;34m:\u001b[0m\u001b[0;34m\u001b[0m\u001b[0;34m\u001b[0m\u001b[0m\n\u001b[1;32m    872\u001b[0m             \u001b[0;31m# Encoding\u001b[0m\u001b[0;34m\u001b[0m\u001b[0;34m\u001b[0m\u001b[0m\n\u001b[0;32m--> 873\u001b[0;31m             handle = open(\n\u001b[0m\u001b[1;32m    874\u001b[0m                 \u001b[0mhandle\u001b[0m\u001b[0;34m,\u001b[0m\u001b[0;34m\u001b[0m\u001b[0;34m\u001b[0m\u001b[0m\n\u001b[1;32m    875\u001b[0m                 \u001b[0mioargs\u001b[0m\u001b[0;34m.\u001b[0m\u001b[0mmode\u001b[0m\u001b[0;34m,\u001b[0m\u001b[0;34m\u001b[0m\u001b[0;34m\u001b[0m\u001b[0m\n",
            "\u001b[0;31mFileNotFoundError\u001b[0m: [Errno 2] No such file or directory: 'jobs_in_data.csv'"
          ]
        }
      ],
      "source": [
        "# Интеграция необходимых библиотек для анализа\n",
        "import numpy as np\n",
        "import matplotlib.pyplot as plt\n",
        "import pandas as pd\n",
        "from scipy import stats\n",
        "import seaborn as sns\n",
        "\n",
        "# Настройка визуализации\n",
        "plt.style.use('seaborn-v0_8-whitegrid')\n",
        "plt.rcParams['figure.figsize'] = (12, 8)\n",
        "plt.rcParams['font.size'] = 12\n",
        "\n",
        "# Импорт данных\n",
        "df = pd.read_csv('jobs_in_data.csv')\n",
        "\n",
        "# Базовая информация о наборе данных\n",
        "print(\"\\nРазмер датасета:\", df.shape)\n",
        "print(\"\\nПервые строки датасета:\")\n",
        "print(df.head())\n",
        "print(\"\\nИнформация о столбцах:\")\n",
        "print(df.info())"
      ]
    },
    {
      "cell_type": "markdown",
      "metadata": {
        "id": "H0atJeF2eIrf"
      },
      "source": [
        "## 2. Подготовка и предварительный анализ данных"
      ]
    },
    {
      "cell_type": "code",
      "execution_count": null,
      "metadata": {
        "id": "mJveRGPReIrg"
      },
      "outputs": [],
      "source": [
        "# Проверка пропущенных значений в колонке зарплат\n",
        "print(\"\\nКоличество пропущенных значений в колонке salary_in_usd:\", df['salary_in_usd'].isna().sum())\n",
        "\n",
        "# Построение базового распределения зарплат\n",
        "plt.figure(figsize=(14, 6))\n",
        "\n",
        "# Отображение всех зарплат в выборке\n",
        "plt.scatter(range(len(df['salary_in_usd'])), df['salary_in_usd'], color='teal', alpha=0.5, s=20)\n",
        "\n",
        "# Добавление информационных элементов\n",
        "plt.title('Распределение зарплат в сфере данных (USD)', fontsize=16)\n",
        "plt.xlabel('Индекс наблюдения', fontsize=14)\n",
        "plt.ylabel('Годовая зарплата (USD)', fontsize=14)\n",
        "plt.grid(True)\n",
        "\n",
        "plt.tight_layout()\n",
        "plt.show()"
      ]
    },
    {
      "cell_type": "markdown",
      "metadata": {
        "id": "5H4zJ9cReIrh"
      },
      "source": [
        "## 3. Описательная статистика"
      ]
    },
    {
      "cell_type": "code",
      "execution_count": null,
      "metadata": {
        "id": "Bb6_75rreIrh"
      },
      "outputs": [],
      "source": [
        "# Выделение данных о зарплатах\n",
        "salary_data = df['salary_in_usd'].values\n",
        "\n",
        "# Расчет основных статистических показателей\n",
        "n = len(salary_data)                      # размер выборки\n",
        "mean = np.mean(salary_data)               # среднее значение\n",
        "var = np.var(salary_data, ddof=1)         # дисперсия (с поправкой Бесселя)\n",
        "std = np.std(salary_data, ddof=1)         # стандартное отклонение\n",
        "median = np.median(salary_data)           # медиана\n",
        "min_val = np.min(salary_data)             # минимум\n",
        "max_val = np.max(salary_data)             # максимум\n",
        "range_val = max_val - min_val             # размах\n",
        "q1 = np.percentile(salary_data, 25)       # первый квартиль\n",
        "q3 = np.percentile(salary_data, 75)       # третий квартиль\n",
        "iqr = q3 - q1                             # межквартильный размах\n",
        "\n",
        "# Коэффициенты формы распределения\n",
        "skewness = stats.skew(salary_data)        # коэффициент асимметрии\n",
        "kurtosis = stats.kurtosis(salary_data)    # коэффициент эксцесса\n",
        "\n",
        "print(\"\\nОписательная статистика:\")\n",
        "print(f\"Размер выборки: n = {n}\")\n",
        "print(f\"Среднее значение: x̄ = ${mean:.2f}\")\n",
        "print(f\"Исправленная дисперсия: s² = ${var:.2f}\")\n",
        "print(f\"Стандартное отклонение: s = ${std:.2f}\")\n",
        "print(f\"Медиана: Me = ${median:.2f}\")\n",
        "print(f\"Минимум: ${min_val:.2f}\")\n",
        "print(f\"Максимум: ${max_val:.2f}\")\n",
        "print(f\"Размах: ${range_val:.2f}\")\n",
        "print(f\"Первый квартиль (Q1): ${q1:.2f}\")\n",
        "print(f\"Третий квартиль (Q3): ${q3:.2f}\")\n",
        "print(f\"Межквартильный размах (IQR): ${iqr:.2f}\")\n",
        "print(f\"Коэффициент асимметрии: A = {skewness:.4f}\")\n",
        "print(f\"Коэффициент эксцесса: E = {kurtosis:.4f}\")\n",
        "\n",
        "# Дополнительная статистика через pandas\n",
        "print(\"\\nРасширенная статистика через pandas.describe():\")\n",
        "print(df['salary_in_usd'].describe())"
      ]
    },
    {
      "cell_type": "markdown",
      "metadata": {
        "id": "SnG8IFh-eIri"
      },
      "source": [
        "## 4. Визуализация распределения зарплат"
      ]
    },
    {
      "cell_type": "code",
      "execution_count": null,
      "metadata": {
        "id": "AAqvBcPgeIrj"
      },
      "outputs": [],
      "source": [
        "# Построение гистограммы и теоретической плотности\n",
        "plt.figure(figsize=(14, 8))\n",
        "\n",
        "# Гистограмма эмпирического распределения\n",
        "n_bins = 50  # количество интервалов\n",
        "plt.hist(salary_data, bins=n_bins, density=True, alpha=0.6, color='darkturquoise',\n",
        "         edgecolor='black', label='Эмпирическая плотность')\n",
        "\n",
        "# Теоретическое нормальное распределение\n",
        "xmin, xmax = plt.xlim()\n",
        "x = np.linspace(xmin, xmax, 1000)\n",
        "p = stats.norm.pdf(x, mean, std)\n",
        "plt.plot(x, p, 'r-', linewidth=2, label='Теоретическая плотность N(μ, σ²)')\n",
        "\n",
        "# Ядерная оценка плотности\n",
        "sns.kdeplot(salary_data, color='darkgreen', linewidth=2, label='Ядерная оценка плотности (KDE)')\n",
        "\n",
        "plt.title('Распределение зарплат в сфере данных', fontsize=16)\n",
        "plt.xlabel('Годовая зарплата (USD)', fontsize=14)\n",
        "plt.ylabel('Плотность', fontsize=14)\n",
        "plt.legend(fontsize=12)\n",
        "plt.grid(True)\n",
        "\n",
        "plt.tight_layout()\n",
        "plt.show()"
      ]
    },
    {
      "cell_type": "code",
      "execution_count": null,
      "metadata": {
        "id": "auMvqE3teIrk"
      },
      "outputs": [],
      "source": [
        "# Построение кумулятивной функции распределения\n",
        "plt.figure(figsize=(14, 8))\n",
        "\n",
        "# Эмпирическая функция распределения\n",
        "plt.step(sorted(salary_data), np.arange(1, n+1) / n, 'b-', where='post', lw=2,\n",
        "         label='Эмпирическая функция распределения')\n",
        "\n",
        "# Теоретическая функция нормального распределения\n",
        "x = np.linspace(min(salary_data), max(salary_data), 1000)\n",
        "plt.plot(x, stats.norm.cdf(x, mean, std), 'r-', lw=2,\n",
        "         label=f'Теоретическая функция N({mean:.0f}, {std:.0f}²)')\n",
        "\n",
        "plt.title('Функция распределения зарплат', fontsize=16)\n",
        "plt.xlabel('Годовая зарплата (USD)', fontsize=14)\n",
        "plt.ylabel('Вероятность P(X ≤ x)', fontsize=14)\n",
        "plt.legend(fontsize=12)\n",
        "plt.grid(True)\n",
        "\n",
        "plt.tight_layout()\n",
        "plt.show()"
      ]
    },
    {
      "cell_type": "markdown",
      "metadata": {
        "id": "Q-gh1PixeIrk"
      },
      "source": [
        "## 5. Интервальные оценки параметров распределения (95%-ные доверительные интервалы)"
      ]
    },
    {
      "cell_type": "code",
      "execution_count": null,
      "metadata": {
        "id": "68ow7OAweIrk"
      },
      "outputs": [],
      "source": [
        "# Установка уровня значимости\n",
        "alpha = 0.05  # соответствует 95% доверительной вероятности\n",
        "t_crit = stats.t.ppf(1-alpha/2, n-1)  # критическое значение t-распределения\n",
        "\n",
        "# Доверительный интервал для математического ожидания\n",
        "ci_mean_lower = mean - t_crit * std/np.sqrt(n)\n",
        "ci_mean_upper = mean + t_crit * std/np.sqrt(n)\n",
        "ci_mean = (ci_mean_lower, ci_mean_upper)\n",
        "\n",
        "# Доверительный интервал для дисперсии\n",
        "chi2_low = stats.chi2.ppf(alpha/2, n-1)\n",
        "chi2_high = stats.chi2.ppf(1-alpha/2, n-1)\n",
        "\n",
        "ci_var_lower = (n-1) * var / chi2_high\n",
        "ci_var_upper = (n-1) * var / chi2_low\n",
        "ci_var = (ci_var_lower, ci_var_upper)\n",
        "\n",
        "# Доверительный интервал для стандартного отклонения\n",
        "ci_std = (np.sqrt(ci_var_lower), np.sqrt(ci_var_upper))\n",
        "\n",
        "print(\"\\n95% доверительные интервалы:\")\n",
        "print(f\"Для математического ожидания: [${ci_mean[0]:.2f}, ${ci_mean[1]:.2f}], t-критическое значение: {t_crit:.4f}\")\n",
        "print(f\"Для дисперсии: [${ci_var[0]:.2f}, ${ci_var[1]:.2f}], χ²-критические значения: [{chi2_low:.4f}, {chi2_high:.4f}]\")\n",
        "print(f\"Для стандартного отклонения: [${ci_std[0]:.2f}, ${ci_std[1]:.2f}]\")"
      ]
    },
    {
      "cell_type": "code",
      "execution_count": null,
      "metadata": {
        "id": "10hGCk62eIrl"
      },
      "outputs": [],
      "source": [
        "# Визуализация доверительного интервала для среднего\n",
        "plt.figure(figsize=(14, 6))\n",
        "\n",
        "# Отображение доверительного интервала на гистограмме\n",
        "plt.axvspan(ci_mean[0], ci_mean[1], alpha=0.3, color='lightblue',\n",
        "            label=f'95% доверительный интервал: [${ci_mean[0]:.2f}, ${ci_mean[1]:.2f}]')\n",
        "plt.axvline(mean, color='red', linestyle='--', linewidth=2,\n",
        "            label=f'Среднее значение: ${mean:.2f}')\n",
        "\n",
        "# Гистограмма распределения зарплат\n",
        "sns.histplot(salary_data, kde=True, color='darkblue', alpha=0.6, bins=n_bins)\n",
        "\n",
        "plt.title('95% доверительный интервал для средней зарплаты', fontsize=16)\n",
        "plt.xlabel('Годовая зарплата (USD)', fontsize=14)\n",
        "plt.ylabel('Частота', fontsize=14)\n",
        "plt.legend(fontsize=12)\n",
        "plt.grid(True)\n",
        "\n",
        "plt.tight_layout()\n",
        "plt.show()"
      ]
    },
    {
      "cell_type": "markdown",
      "metadata": {
        "id": "PCkQb9eEeIrl"
      },
      "source": [
        "## 6. Проверка гипотезы о среднем значении зарплаты\n",
        "\n",
        "Проверим гипотезу $H_0: \\mu > 130,000$ против альтернативы $H_1: \\mu \\leq 130,000$ на уровнях значимости 5% и 1%."
      ]
    },
    {
      "cell_type": "code",
      "execution_count": null,
      "metadata": {
        "id": "8R3UCVH1eIrl"
      },
      "outputs": [],
      "source": [
        "# Гипотетическое значение: средняя зарплата превышает $130,000\n",
        "mu0 = 130000  # гипотетический уровень средней зарплаты\n",
        "\n",
        "# Расчет t-статистики\n",
        "t_stat = (mean - mu0) / (std / np.sqrt(n))\n",
        "\n",
        "# Расчет p-значения (для правосторонней проверки)\n",
        "p_value = 1 - stats.t.cdf(t_stat, df=n-1)\n",
        "\n",
        "# Определение критических значений для разных уровней значимости\n",
        "alpha1, alpha2 = 0.05, 0.01\n",
        "t_crit1 = stats.t.ppf(1-alpha1, n-1)  # для α = 5%\n",
        "t_crit2 = stats.t.ppf(1-alpha2, n-1)  # для α = 1%\n",
        "\n",
        "print(\"\\nПроверка гипотезы H0: μ > $130,000 против H1: μ ≤ $130,000\")\n",
        "print(\"\\nРасчетная таблица:\")\n",
        "print(f\"Среднее значение (x̄): ${mean:.2f}\")\n",
        "print(f\"Стандартное отклонение (s): ${std:.2f}\")\n",
        "print(f\"Объем выборки (n): {n}\")\n",
        "print(f\"Стандартная ошибка (s/√n): ${std/np.sqrt(n):.2f}\")\n",
        "print(f\"t-статистика: {t_stat:.4f}\")\n",
        "print(f\"p-значение: {p_value:.10f}\")\n",
        "\n",
        "print(\"\\nКритические значения:\")\n",
        "print(f\"t_крит для α=5%: {t_crit1:.4f}\")\n",
        "print(f\"t_крит для α=1%: {t_crit2:.4f}\")\n",
        "\n",
        "# Вывод результата для α = 5%\n",
        "print(\"\\nРешение при α = 5%:\")\n",
        "if t_stat > t_crit1:\n",
        "    print(f\"t_статистика = {t_stat:.4f} > t_крит = {t_crit1:.4f} → отвергаем H0\")\n",
        "    print(\"Гипотеза H0 отвергается на уровне значимости 5%\")\n",
        "else:\n",
        "    print(f\"t_статистика = {t_stat:.4f} ≤ t_крит = {t_crit1:.4f} → не отвергаем H0\")\n",
        "    print(\"Гипотеза H0 не отвергается на уровне значимости 5%\")\n",
        "\n",
        "# Вывод результата для α = 1%\n",
        "print(\"\\nРешение при α = 1%:\")\n",
        "if t_stat > t_crit2:\n",
        "    print(f\"t_статистика = {t_stat:.4f} > t_крит = {t_crit2:.4f} → отвергаем H0\")\n",
        "    print(\"Гипотеза H0 отвергается на уровне значимости 1%\")\n",
        "else:\n",
        "    print(f\"t_статистика = {t_stat:.4f} ≤ t_крит = {t_crit2:.4f} → не отвергаем H0\")\n",
        "    print(\"Гипотеза H0 не отвергается на уровне значимости 1%\")"
      ]
    },
    {
      "cell_type": "code",
      "execution_count": null,
      "metadata": {
        "id": "VXmrq-YMeIrm"
      },
      "outputs": [],
      "source": [
        "# Визуализация результатов t-теста\n",
        "plt.figure(figsize=(14, 6))\n",
        "\n",
        "# Построение t-распределения\n",
        "x = np.linspace(-5, 5, 1000)\n",
        "y = stats.t.pdf(x, df=n-1)\n",
        "plt.plot(x, y, 'b-', linewidth=2, label=f't-распределение с {n-1} степенями свободы')\n",
        "\n",
        "# Обозначение критических областей\n",
        "rejection_region_5 = np.linspace(t_crit1, max(x), 100)\n",
        "rejection_region_1 = np.linspace(t_crit2, max(x), 100)\n",
        "\n",
        "plt.fill_between(rejection_region_5, 0, stats.t.pdf(rejection_region_5, df=n-1),\n",
        "                 color='yellow', alpha=0.5, label='Область отвержения H0 (α=5%)')\n",
        "plt.fill_between(rejection_region_1, 0, stats.t.pdf(rejection_region_1, df=n-1),\n",
        "                 color='orange', alpha=0.5, label='Область отвержения H0 (α=1%)')\n",
        "\n",
        "# Отметка фактического значения статистики\n",
        "plt.axvline(t_stat, color='green', linestyle='--', linewidth=2,\n",
        "            label=f'Наблюдаемое значение t = {t_stat:.2f}')\n",
        "\n",
        "plt.title('Проверка гипотезы H0: μ > $130,000 против H1: μ ≤ $130,000', fontsize=16)\n",
        "plt.xlabel('t-статистика', fontsize=14)\n",
        "plt.ylabel('Плотность', fontsize=14)\n",
        "plt.legend(fontsize=12)\n",
        "plt.grid(True)\n",
        "\n",
        "plt.tight_layout()\n",
        "plt.show()"
      ]
    },
    {
      "cell_type": "markdown",
      "metadata": {
        "id": "1AR7F8UDeIrm"
      },
      "source": [
        "## 7. Анализ различий зарплат по категориям работы"
      ]
    },
    {
      "cell_type": "code",
      "execution_count": 3,
      "metadata": {
        "colab": {
          "base_uri": "https://localhost:8080/",
          "height": 211
        },
        "id": "7MbmzJNteIrm",
        "outputId": "01d79d4d-bb92-4df9-922a-a50a41dd7227"
      },
      "outputs": [
        {
          "output_type": "error",
          "ename": "NameError",
          "evalue": "name 'df' is not defined",
          "traceback": [
            "\u001b[0;31m---------------------------------------------------------------------------\u001b[0m",
            "\u001b[0;31mNameError\u001b[0m                                 Traceback (most recent call last)",
            "\u001b[0;32m<ipython-input-3-5a10d818976a>\u001b[0m in \u001b[0;36m<cell line: 0>\u001b[0;34m()\u001b[0m\n\u001b[1;32m      1\u001b[0m \u001b[0;31m# Создаем сводную таблицу средних зарплат по категориям\u001b[0m\u001b[0;34m\u001b[0m\u001b[0;34m\u001b[0m\u001b[0m\n\u001b[0;32m----> 2\u001b[0;31m \u001b[0mjob_category_stats\u001b[0m \u001b[0;34m=\u001b[0m \u001b[0mdf\u001b[0m\u001b[0;34m.\u001b[0m\u001b[0mgroupby\u001b[0m\u001b[0;34m(\u001b[0m\u001b[0;34m'job_category'\u001b[0m\u001b[0;34m)\u001b[0m\u001b[0;34m[\u001b[0m\u001b[0;34m'salary_in_usd'\u001b[0m\u001b[0;34m]\u001b[0m\u001b[0;34m.\u001b[0m\u001b[0magg\u001b[0m\u001b[0;34m(\u001b[0m\u001b[0;34m[\u001b[0m\u001b[0;34m'mean'\u001b[0m\u001b[0;34m,\u001b[0m \u001b[0;34m'std'\u001b[0m\u001b[0;34m,\u001b[0m \u001b[0;34m'count'\u001b[0m\u001b[0;34m]\u001b[0m\u001b[0;34m)\u001b[0m\u001b[0;34m\u001b[0m\u001b[0;34m\u001b[0m\u001b[0m\n\u001b[0m\u001b[1;32m      3\u001b[0m \u001b[0mjob_category_stats\u001b[0m \u001b[0;34m=\u001b[0m \u001b[0mjob_category_stats\u001b[0m\u001b[0;34m.\u001b[0m\u001b[0msort_values\u001b[0m\u001b[0;34m(\u001b[0m\u001b[0;34m'mean'\u001b[0m\u001b[0;34m,\u001b[0m \u001b[0mascending\u001b[0m\u001b[0;34m=\u001b[0m\u001b[0;32mFalse\u001b[0m\u001b[0;34m)\u001b[0m\u001b[0;34m\u001b[0m\u001b[0;34m\u001b[0m\u001b[0m\n\u001b[1;32m      4\u001b[0m \u001b[0;34m\u001b[0m\u001b[0m\n\u001b[1;32m      5\u001b[0m \u001b[0mprint\u001b[0m\u001b[0;34m(\u001b[0m\u001b[0;34m\"\\nСредние зарплаты по категориям работ:\"\u001b[0m\u001b[0;34m)\u001b[0m\u001b[0;34m\u001b[0m\u001b[0;34m\u001b[0m\u001b[0m\n",
            "\u001b[0;31mNameError\u001b[0m: name 'df' is not defined"
          ]
        }
      ],
      "source": [
        "# Создаем сводную таблицу средних зарплат по категориям\n",
        "job_category_stats = df.groupby('job_category')['salary_in_usd'].agg(['mean', 'std', 'count'])\n",
        "job_category_stats = job_category_stats.sort_values('mean', ascending=False)\n",
        "\n",
        "print(\"\\nСредние зарплаты по категориям работ:\")\n",
        "print(job_category_stats)\n",
        "\n",
        "# Визуализация средних зарплат по категориям\n",
        "plt.figure(figsize=(16, 8))\n",
        "job_categories = job_category_stats.index.tolist()\n",
        "means = job_category_stats['mean'].values\n",
        "errors = job_category_stats['std'].values / np.sqrt(job_category_stats['count'].values)\n",
        "\n",
        "# Построение столбчатой диаграммы с доверительными интервалами\n",
        "plt.bar(job_categories, means, yerr=errors, capsize=5, color='skyblue', alpha=0.7)\n",
        "plt.axhline(mean, color='red', linestyle='--', linewidth=2, label=f'Общее среднее: ${mean:.0f}')\n",
        "\n",
        "plt.title('Средние зарплаты по категориям работ в сфере данных', fontsize=16)\n",
        "plt.xlabel('Категория работы', fontsize=14)\n",
        "plt.ylabel('Средняя зарплата (USD)', fontsize=14)\n",
        "plt.xticks(rotation=45, ha='right')\n",
        "plt.legend()\n",
        "plt.grid(True, axis='y')\n",
        "plt.tight_layout()\n",
        "plt.show()"
      ]
    },
    {
      "cell_type": "markdown",
      "metadata": {
        "id": "KtzaSFkzeIrm"
      },
      "source": [
        "## 8. Проверка нормальности распределения зарплат (критерий Хи-квадрат) на уровне значимости 5%"
      ]
    },
    {
      "cell_type": "code",
      "execution_count": 4,
      "metadata": {
        "colab": {
          "base_uri": "https://localhost:8080/",
          "height": 211
        },
        "id": "MEbGaVQReIrn",
        "outputId": "ce964f35-567d-470e-8620-f8cc37459bb0"
      },
      "outputs": [
        {
          "output_type": "error",
          "ename": "NameError",
          "evalue": "name 'salary_data' is not defined",
          "traceback": [
            "\u001b[0;31m---------------------------------------------------------------------------\u001b[0m",
            "\u001b[0;31mNameError\u001b[0m                                 Traceback (most recent call last)",
            "\u001b[0;32m<ipython-input-4-5d0da47e08cc>\u001b[0m in \u001b[0;36m<cell line: 0>\u001b[0;34m()\u001b[0m\n\u001b[1;32m      1\u001b[0m \u001b[0;31m# Создание гистограммы с равномерным разбиением на интервалы\u001b[0m\u001b[0;34m\u001b[0m\u001b[0;34m\u001b[0m\u001b[0m\n\u001b[1;32m      2\u001b[0m \u001b[0mnum_bins\u001b[0m \u001b[0;34m=\u001b[0m \u001b[0;36m20\u001b[0m\u001b[0;34m\u001b[0m\u001b[0;34m\u001b[0m\u001b[0m\n\u001b[0;32m----> 3\u001b[0;31m \u001b[0mobserved\u001b[0m\u001b[0;34m,\u001b[0m \u001b[0mbin_edges\u001b[0m \u001b[0;34m=\u001b[0m \u001b[0mnp\u001b[0m\u001b[0;34m.\u001b[0m\u001b[0mhistogram\u001b[0m\u001b[0;34m(\u001b[0m\u001b[0msalary_data\u001b[0m\u001b[0;34m,\u001b[0m \u001b[0mbins\u001b[0m\u001b[0;34m=\u001b[0m\u001b[0mnum_bins\u001b[0m\u001b[0;34m)\u001b[0m\u001b[0;34m\u001b[0m\u001b[0;34m\u001b[0m\u001b[0m\n\u001b[0m\u001b[1;32m      4\u001b[0m \u001b[0;34m\u001b[0m\u001b[0m\n\u001b[1;32m      5\u001b[0m \u001b[0;31m# Расчет теоретических частот при нормальном распределении\u001b[0m\u001b[0;34m\u001b[0m\u001b[0;34m\u001b[0m\u001b[0m\n",
            "\u001b[0;31mNameError\u001b[0m: name 'salary_data' is not defined"
          ]
        }
      ],
      "source": [
        "# Создание гистограммы с равномерным разбиением на интервалы\n",
        "num_bins = 20\n",
        "observed, bin_edges = np.histogram(salary_data, bins=num_bins)\n",
        "\n",
        "# Расчет теоретических частот при нормальном распределении\n",
        "expected = np.zeros(num_bins)\n",
        "for i in range(num_bins):\n",
        "    p_i = stats.norm.cdf(bin_edges[i+1], mean, std) - stats.norm.cdf(bin_edges[i], mean, std)\n",
        "    expected[i] = n * p_i\n",
        "\n",
        "# Проверка условия применимости критерия χ²\n",
        "print(\"\\nПроверка условия применимости критерия χ²:\")\n",
        "print(\"Все ожидаемые частоты должны быть не менее 5\")\n",
        "print(f\"Минимальная ожидаемая частота: {min(expected):.4f}\")\n",
        "\n",
        "# Объединение интервалов с малыми ожидаемыми частотами\n",
        "while np.any(expected < 5) and len(expected) > 2:\n",
        "    min_idx = np.argmin(expected)\n",
        "\n",
        "    if min_idx == 0:\n",
        "        # Объединение первого интервала со следующим\n",
        "        observed[min_idx] += observed[min_idx+1]\n",
        "        expected[min_idx] += expected[min_idx+1]\n",
        "        observed = np.delete(observed, min_idx+1)\n",
        "        expected = np.delete(expected, min_idx+1)\n",
        "        bin_edges = np.delete(bin_edges, min_idx+1)\n",
        "    else:\n",
        "        # Объединение текущего интервала с предыдущим\n",
        "        observed[min_idx-1] += observed[min_idx]\n",
        "        expected[min_idx-1] += expected[min_idx]\n",
        "        observed = np.delete(observed, min_idx)\n",
        "        expected = np.delete(expected, min_idx)\n",
        "        bin_edges = np.delete(bin_edges, min_idx)\n",
        "\n",
        "# Информация о результатах объединения интервалов\n",
        "print(f\"\\nПосле объединения интервалов:\")\n",
        "print(f\"Число интервалов: {len(observed)}\")\n",
        "print(f\"Минимальная ожидаемая частота: {min(expected):.4f}\")\n",
        "\n",
        "# Расчет статистики хи-квадрат\n",
        "chi2_stat = np.sum((observed - expected)**2 / expected)\n",
        "\n",
        "# Степени свободы (с учетом оценки двух параметров: μ и σ)\n",
        "df_chi2 = len(observed) - 1 - 2\n",
        "\n",
        "# Проверка достаточности степеней свободы\n",
        "if df_chi2 <= 0:\n",
        "    print(\"\\nНедостаточно степеней свободы для проведения теста!\")\n",
        "    print(\"После объединения интервалов число степеней свободы ≤ 0.\")\n",
        "    print(\"Рекомендуется использовать другой критерий или увеличить размер выборки.\")\n",
        "else:\n",
        "    # Критическое значение и p-значение\n",
        "    chi2_crit = stats.chi2.ppf(1-alpha, df_chi2)\n",
        "    p_value_chi2 = 1 - stats.chi2.cdf(chi2_stat, df_chi2)\n",
        "\n",
        "    # Таблица расчета\n",
        "    print(\"\\nРасчетная таблица для критерия χ²:\")\n",
        "    print(\"     Интервал    | Наблюдаемые | Ожидаемые | (O-E)²/E\")\n",
        "    print(\"-\" * 60)\n",
        "    chi2_components = (observed - expected)**2 / expected\n",
        "    for i in range(len(observed)):\n",
        "        interval = f\"[{bin_edges[i]:.0f}, {bin_edges[i+1]:.0f})\" if i < len(observed)-1 else f\"[{bin_edges[i]:.0f}, {bin_edges[i+1]:.0f}]\"\n",
        "        print(f\"{interval:16} | {observed[i]:11.0f} | {expected[i]:9.2f} | {chi2_components[i]:8.4f}\")\n",
        "    print(\"-\" * 60)\n",
        "    print(f\"Всего:           | {sum(observed):11.0f} | {sum(expected):9.2f} | {sum(chi2_components):8.4f}\")\n",
        "\n",
        "    # Результат теста\n",
        "    print(f\"\\nСтатистика χ²: {chi2_stat:.4f}\")\n",
        "    print(f\"Число степеней свободы: {df_chi2}\")\n",
        "    print(f\"Критическое значение χ² для α=5%: {chi2_crit:.4f}\")\n",
        "    print(f\"p-значение: {p_value_chi2:.4f}\")\n",
        "\n",
        "    print(\"\\nРешение:\")\n",
        "    if chi2_stat > chi2_crit:\n",
        "        print(f\"χ² = {chi2_stat:.4f} > χ²_крит = {chi2_crit:.4f} → отвергаем H0\")\n",
        "        print(\"Гипотеза о нормальности распределения отвергается на уровне значимости 5%\")\n",
        "    else:\n",
        "        print(f\"χ² = {chi2_stat:.4f} ≤ χ²_крит = {chi2_crit:.4f} → не отвергаем H0\")\n",
        "        print(\"Гипотеза о нормальности распределения не отвергается на уровне значимости 5%\")"
      ]
    },
    {
      "cell_type": "code",
      "execution_count": null,
      "metadata": {
        "id": "FlV0QDRieIrn"
      },
      "outputs": [],
      "source": [
        "# Построение квантильного графика (Q-Q plot) для оценки нормальности\n",
        "plt.figure(figsize=(10, 10))\n",
        "stats.probplot(salary_data, dist=\"norm\", plot=plt)\n",
        "plt.title('Q-Q график для проверки нормальности распределения зарплат', fontsize=16)\n",
        "plt.grid(True)\n",
        "plt.tight_layout()\n",
        "plt.show()"
      ]
    },
    {
      "cell_type": "markdown",
      "metadata": {
        "id": "N_fsw6zKeIrn"
      },
      "source": [
        "## 9. Дополнительный анализ: распределение зарплат по уровню опыта"
      ]
    },
    {
      "cell_type": "code",
      "execution_count": null,
      "metadata": {
        "id": "rw7QnYUZeIrn"
      },
      "outputs": [],
      "source": [
        "# Создание сводной статистики по уровням опыта\n",
        "experience_stats = df.groupby('experience_level')['salary_in_usd'].agg(['mean', 'std', 'count'])\n",
        "print(\"\\nСредние зарплаты по уровням опыта:\")\n",
        "print(experience_stats)\n",
        "\n",
        "# Построение boxplot для сравнения распределений\n",
        "plt.figure(figsize=(14, 8))\n",
        "sns.boxplot(x='experience_level', y='salary_in_usd', data=df, palette='viridis')\n",
        "plt.title('Распределение зарплат по уровню опыта', fontsize=16)\n",
        "plt.xlabel('Уровень опыта', fontsize=14)\n",
        "plt.ylabel('Годовая зарплата (USD)', fontsize=14)\n",
        "plt.grid(True, axis='y')\n",
        "plt.tight_layout()\n",
        "plt.show()"
      ]
    },
    {
      "cell_type": "markdown",
      "metadata": {
        "id": "zFe-xnlbeIrn"
      },
      "source": [
        "## 10. Выводы\n",
        "\n",
        "1. **Анализ точечных оценок**:\n",
        "   - Средняя зарплата в сфере данных составляет значительную сумму, что отражает высокий спрос на специалистов этого профиля.\n",
        "   - Высокое значение стандартного отклонения указывает на существенную вариативность зарплат в отрасли.\n",
        "   - Положительный коэффициент асимметрии свидетельствует о том, что распределение зарплат смещено вправо: большинство специалистов\n",
        "     получает зарплату ниже среднего, в то время как относительно небольшое количество высокооплачиваемых позиций значительно\n",
        "     повышает среднее значение.\n",
        "\n",
        "2. **Интервальные оценки**:\n",
        "   - Рассчитанный 95%-ный доверительный интервал для математического ожидания зарплат позволяет с высокой степенью уверенности\n",
        "     определить границы средней зарплаты во всей генеральной совокупности специалистов по данным.\n",
        "\n",
        "3. **Проверка гипотезы о средней зарплате**:\n",
        "   - Статистический анализ подтвердил/опроверг гипотезу о том, что средняя зарплата в сфере данных превышает $130,000.\n",
        "\n",
        "4. **Анализ по категориям работ**:\n",
        "   - Выявлены значительные различия в уровне оплаты труда между различными категориями работ в сфере данных.\n",
        "   - Наиболее высокооплачиваемыми являются позиции, связанные с руководством, машинным обучением и архитектурой данных.\n",
        "\n",
        "5. **Проверка нормальности распределения**:\n",
        "   - Критерий χ² и квантильный график показывают, что распределение зарплат значительно отклоняется от нормального.\n",
        "   - Наблюдается выраженная правосторонняя асимметрия, характерная для данных о доходах.\n",
        "\n",
        "6. **Анализ по уровню опыта**:\n",
        "   - Зарплаты специалистов существенно увеличиваются с ростом опыта работы.\n",
        "   - Наблюдается значительный разброс в зарплатах на уровне руководящих позиций (Executive).\n",
        "\n",
        "Проведенный статистический анализ предоставляет ценную информацию о структуре рынка труда в сфере данных, позволяя лучше\n",
        "понимать факторы, влияющие на уровень оплаты труда специалистов разных категорий и уровней опыта."
      ]
    }
  ],
  "metadata": {
    "kernelspec": {
      "display_name": "Python 3",
      "name": "python3"
    },
    "language_info": {
      "codemirror_mode": {
        "name": "ipython",
        "version": 3
      },
      "name": "python"
    },
    "colab": {
      "provenance": []
    }
  },
  "nbformat": 4,
  "nbformat_minor": 0
}